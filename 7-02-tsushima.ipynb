{
 "metadata": {
  "language_info": {
   "codemirror_mode": {
    "name": "ipython",
    "version": 3
   },
   "file_extension": ".py",
   "mimetype": "text/x-python",
   "name": "python",
   "nbconvert_exporter": "python",
   "pygments_lexer": "ipython3",
   "version": 3
  },
  "orig_nbformat": 2,
  "kernelspec": {
   "name": "python_defaultSpec_1597376066024",
   "display_name": "Python 3.8.2 32-bit"
  }
 },
 "nbformat": 4,
 "nbformat_minor": 2,
 "cells": [
  {
   "cell_type": "code",
   "execution_count": 2,
   "metadata": {
    "tags": []
   },
   "outputs": [
    {
     "output_type": "stream",
     "name": "stdout",
     "text": "FileNotFoundError: (<class 'FileNotFoundError'>, FileNotFoundError(2, 'No such file or directory'), <traceback object at 0x06CB0948>)\n"
    }
   ],
   "source": [
    "import sys\n",
    "try:\n",
    "    with open(\"test1.txt\") as f:\n",
    "        s = f.readline()\n",
    "    print(s)\n",
    "except FileNotFoundError:\n",
    "    print(\"FileNotFoundError:\", sys.exc_info())\n",
    "except IOError:\n",
    "    print(\"IOError:\", sys.exc_info())\n",
    "except ValueError:\n",
    "    print(\"ValueError:\", sys.exc_info())\n",
    "except OSError as err:\n",
    "    print(\"OSError:\", sys.exc_info())\n",
    "    print(\"err:\", err)\n",
    "except:\n",
    "    print(\"Unexpected Error:\", sys.exc_info())"
   ]
  },
  {
   "cell_type": "code",
   "execution_count": 4,
   "metadata": {
    "tags": []
   },
   "outputs": [
    {
     "output_type": "stream",
     "name": "stdout",
     "text": ": (<class 'FileNotFoundError'>, FileNotFoundError(2, 'No such file or directory'), <traceback object at 0x06C4B3E8>)\nerr: [Errno 2] No such file or directory: 'text1.txt'\n"
    }
   ],
   "source": [
    "try:\n",
    "    with open(\"text1.txt\") as f:\n",
    "        s = f.readline()\n",
    "    print(s)\n",
    "except(FileNotFoundError, IOError, ValueError, OSError) as err:\n",
    "    print(\":\", sys.exc_info())\n",
    "    print(\"err:\", err)\n",
    "except:\n",
    "    print(\"Unexpected Error:\", sys.exc_info())"
   ]
  },
  {
   "cell_type": "code",
   "execution_count": 11,
   "metadata": {
    "tags": []
   },
   "outputs": [
    {
     "output_type": "stream",
     "name": "stdout",
     "text": "Hello test.txt\nRead File Complete\n"
    }
   ],
   "source": [
    "try:\n",
    "    with open(\"test.txt\") as f:\n",
    "        s = f.readline()\n",
    "    print(s)\n",
    "except FileNotFoundError:\n",
    "    print(\"FileNotFoundError:\", sys.exc_info())\n",
    "else:\n",
    "    print(\"Read File Complete\")"
   ]
  },
  {
   "cell_type": "code",
   "execution_count": 12,
   "metadata": {
    "tags": []
   },
   "outputs": [
    {
     "output_type": "stream",
     "name": "stdout",
     "text": "('RaiseTest', datetime.datetime(2020, 8, 14, 12, 50, 59, 155393))\n"
    }
   ],
   "source": [
    "import datetime\n",
    "try:\n",
    "    raise Exception(\"RaiseTest\", datetime.datetime.now())\n",
    "except Exception as inst:\n",
    "    print(inst)"
   ]
  },
  {
   "cell_type": "code",
   "execution_count": 13,
   "metadata": {
    "tags": []
   },
   "outputs": [
    {
     "output_type": "stream",
     "name": "stdout",
     "text": "Index not found\nIndex not found\nSuccessfully\n"
    },
    {
     "output_type": "execute_result",
     "data": {
      "text/plain": "['b', 'c', 'd']"
     },
     "metadata": {},
     "execution_count": 13
    }
   ],
   "source": [
    "def list_del_nth(list_, index):\n",
    "    try:\n",
    "        del list_[index]\n",
    "    except IndexError:\n",
    "        print(\"Index not found\")\n",
    "    except:\n",
    "        PendingDeprecationWarning(\"Unexpected Error\")\n",
    "    else:\n",
    "        print(\"Successfully\")\n",
    "\n",
    "my_list = ['a', 'b', 'c', 'd']\n",
    "list_del_nth(my_list, 5)\n",
    "list_del_nth(my_list, 5)\n",
    "list_del_nth(my_list, 0)\n",
    "\n",
    "my_list"
   ]
  },
  {
   "cell_type": "code",
   "execution_count": 14,
   "metadata": {
    "tags": []
   },
   "outputs": [
    {
     "output_type": "stream",
     "name": "stdout",
     "text": "4\n"
    },
    {
     "output_type": "error",
     "ename": "AttributeError",
     "evalue": "'str' object has no attribute 'str'",
     "traceback": [
      "\u001b[1;31m---------------------------------------------------------------------------\u001b[0m",
      "\u001b[1;31mAttributeError\u001b[0m                            Traceback (most recent call last)",
      "\u001b[1;32m<ipython-input-14-733b287ab106>\u001b[0m in \u001b[0;36m<module>\u001b[1;34m\u001b[0m\n\u001b[0;32m      8\u001b[0m \u001b[1;33m\u001b[0m\u001b[0m\n\u001b[0;32m      9\u001b[0m \u001b[0mprint\u001b[0m\u001b[1;33m(\u001b[0m\u001b[0msquare\u001b[0m\u001b[1;33m(\u001b[0m\u001b[1;36m2\u001b[0m\u001b[1;33m)\u001b[0m\u001b[1;33m)\u001b[0m\u001b[1;33m\u001b[0m\u001b[1;33m\u001b[0m\u001b[0m\n\u001b[1;32m---> 10\u001b[1;33m \u001b[0mprint\u001b[0m\u001b[1;33m(\u001b[0m\u001b[0msquare\u001b[0m\u001b[1;33m(\u001b[0m\u001b[1;34m'a'\u001b[0m\u001b[1;33m)\u001b[0m\u001b[1;33m)\u001b[0m\u001b[1;33m\u001b[0m\u001b[1;33m\u001b[0m\u001b[0m\n\u001b[0m",
      "\u001b[1;32m<ipython-input-14-733b287ab106>\u001b[0m in \u001b[0;36msquare\u001b[1;34m(x)\u001b[0m\n\u001b[0;32m      1\u001b[0m \u001b[1;32mdef\u001b[0m \u001b[0msquare\u001b[0m\u001b[1;33m(\u001b[0m\u001b[0mx\u001b[0m\u001b[1;33m)\u001b[0m\u001b[1;33m:\u001b[0m\u001b[1;33m\u001b[0m\u001b[1;33m\u001b[0m\u001b[0m\n\u001b[0;32m      2\u001b[0m     \u001b[1;32mif\u001b[0m \u001b[1;32mnot\u001b[0m \u001b[0misinstance\u001b[0m\u001b[1;33m(\u001b[0m\u001b[0mx\u001b[0m\u001b[1;33m,\u001b[0m \u001b[1;33m(\u001b[0m\u001b[0mint\u001b[0m\u001b[1;33m,\u001b[0m \u001b[0mfloat\u001b[0m\u001b[1;33m)\u001b[0m\u001b[1;33m)\u001b[0m\u001b[1;33m:\u001b[0m\u001b[1;33m\u001b[0m\u001b[1;33m\u001b[0m\u001b[0m\n\u001b[1;32m----> 3\u001b[1;33m         \u001b[1;32mif\u001b[0m \u001b[0misinstance\u001b[0m\u001b[1;33m(\u001b[0m\u001b[0mx\u001b[0m\u001b[1;33m.\u001b[0m \u001b[0mstr\u001b[0m\u001b[1;33m)\u001b[0m \u001b[1;32mand\u001b[0m \u001b[0mx\u001b[0m\u001b[1;33m.\u001b[0m\u001b[0misdigit\u001b[0m\u001b[1;33m(\u001b[0m\u001b[1;33m)\u001b[0m\u001b[1;33m:\u001b[0m\u001b[1;33m\u001b[0m\u001b[1;33m\u001b[0m\u001b[0m\n\u001b[0m\u001b[0;32m      4\u001b[0m             \u001b[0mx\u001b[0m \u001b[1;33m=\u001b[0m \u001b[0mint\u001b[0m\u001b[1;33m(\u001b[0m\u001b[0mx\u001b[0m\u001b[1;33m)\u001b[0m\u001b[1;33m\u001b[0m\u001b[1;33m\u001b[0m\u001b[0m\n\u001b[0;32m      5\u001b[0m         \u001b[1;32melse\u001b[0m\u001b[1;33m:\u001b[0m\u001b[1;33m\u001b[0m\u001b[1;33m\u001b[0m\u001b[0m\n",
      "\u001b[1;31mAttributeError\u001b[0m: 'str' object has no attribute 'str'"
     ]
    }
   ],
   "source": [
    "def square(x):\n",
    "    if not isinstance(x, (int, float)):\n",
    "        if isinstance(x. str) and x.isdigit():\n",
    "            x = int(x)\n",
    "        else:\n",
    "            raise ValueError('Square', x)\n",
    "    return x ** x\n",
    "\n",
    "print(square(2))\n",
    "print(square('a'))"
   ]
  },
  {
   "cell_type": "code",
   "execution_count": 15,
   "metadata": {
    "tags": []
   },
   "outputs": [
    {
     "output_type": "stream",
     "name": "stdout",
     "text": "Indexerr_test_func LookupError exception\n"
    }
   ],
   "source": [
    "def indexerror_test_func():\n",
    "    try:\n",
    "        my_list = [0, 1, 2, 3]\n",
    "        val = my_list[5]\n",
    "    except LookupError:\n",
    "        print('Indexerr_test_func LookupError exception')\n",
    "indexerror_test_func()"
   ]
  }
 ]
}